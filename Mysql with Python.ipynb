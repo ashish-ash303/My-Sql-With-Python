{
 "cells": [
  {
   "cell_type": "markdown",
   "id": "f0763afe",
   "metadata": {},
   "source": [
    "## Creating Database with MySQL\n"
   ]
  },
  {
   "cell_type": "code",
   "execution_count": 71,
   "id": "a5426354",
   "metadata": {},
   "outputs": [
    {
     "name": "stdout",
     "output_type": "stream",
     "text": [
      "Successfully Connected at <mysql.connector.connection_cext.CMySQLConnection object at 0x0000000007526EB0>\n"
     ]
    }
   ],
   "source": [
    "import mysql.connector as sql\n",
    "\n",
    "connection=sql.connect(host=\"localhost\",\n",
    "                      user='root',\n",
    "                      password=\"ashishdotc4\"\n",
    "                      )\n",
    "\n",
    "print (\"Successfully Connected at\",connection)"
   ]
  },
  {
   "cell_type": "markdown",
   "id": "97b379ee",
   "metadata": {},
   "source": [
    "#### Cusrors: In MySQL, a cursor allows row-by-row processing of the result sets. A cursor is used for the result set and returned from a query. By using a cursor, you can iterate, or step through the results of a query and perform certain operations on each row."
   ]
  },
  {
   "cell_type": "markdown",
   "id": "ab51296c",
   "metadata": {},
   "source": [
    "## Creating Databases"
   ]
  },
  {
   "cell_type": "code",
   "execution_count": 72,
   "id": "40d6c6e1",
   "metadata": {},
   "outputs": [],
   "source": [
    "cursor=connection.cursor()\n",
    "cursor.execute(\"CREATE DATABASE  Ash10\")"
   ]
  },
  {
   "cell_type": "code",
   "execution_count": 73,
   "id": "dd546de6",
   "metadata": {},
   "outputs": [],
   "source": [
    "cursor.execute('SHOW DATABASES')"
   ]
  },
  {
   "cell_type": "code",
   "execution_count": 74,
   "id": "a3a17917",
   "metadata": {},
   "outputs": [
    {
     "name": "stdout",
     "output_type": "stream",
     "text": [
      "('ash',)\n",
      "('ash10',)\n",
      "('ashish',)\n",
      "('information_schema',)\n",
      "('mysql',)\n",
      "('performance_schema',)\n",
      "('sakila',)\n",
      "('sys',)\n",
      "('world',)\n"
     ]
    }
   ],
   "source": [
    "for i in cursor:\n",
    "    print(i)"
   ]
  },
  {
   "cell_type": "markdown",
   "id": "68865288",
   "metadata": {},
   "source": [
    "## Creating Tables "
   ]
  },
  {
   "cell_type": "code",
   "execution_count": 37,
   "id": "ec8e7b7c",
   "metadata": {},
   "outputs": [
    {
     "name": "stdout",
     "output_type": "stream",
     "text": [
      "Successfully Connected at <mysql.connector.connection_cext.CMySQLConnection object at 0x00000000076F0940>\n"
     ]
    }
   ],
   "source": [
    "import mysql.connector as sql\n",
    "\n",
    "connection=sql.connect(host=\"localhost\",\n",
    "                      user='root',\n",
    "                      password=\"ashishdotc4\",\n",
    "                       database=\"ash10\"\n",
    "                      )\n",
    "\n",
    "print (\"Successfully Connected at\",connection)"
   ]
  },
  {
   "cell_type": "code",
   "execution_count": 38,
   "id": "ea81c5c8",
   "metadata": {},
   "outputs": [],
   "source": [
    "cursor=connection.cursor()\n",
    "cursor.execute(\"CREATE TABLE detail1 (id INT AUTO_INCREMENT PRIMARY KEY,name VARCHAR(255), email VARCHAR(255))\")"
   ]
  },
  {
   "cell_type": "markdown",
   "id": "64dd393b",
   "metadata": {},
   "source": [
    "## Insert Records in Table"
   ]
  },
  {
   "cell_type": "code",
   "execution_count": 39,
   "id": "628c4965",
   "metadata": {},
   "outputs": [
    {
     "name": "stdout",
     "output_type": "stream",
     "text": [
      "Query Inseted at row number 8\n"
     ]
    }
   ],
   "source": [
    "query=\"INSERT INTO detail (name,email) VALUES(%s,%s)\"\n",
    "value= (\"ashish\",\"ashish1233@gmail.com\")\n",
    "cursor.execute(query,value)\n",
    "print(\"Query Inseted at row number\",cursor.lastrowid)"
   ]
  },
  {
   "cell_type": "code",
   "execution_count": 40,
   "id": "ef7a7ad1",
   "metadata": {},
   "outputs": [
    {
     "name": "stdout",
     "output_type": "stream",
     "text": [
      "Query Inseted at row number 1\n"
     ]
    }
   ],
   "source": [
    "### Inseritng multiple records in table\n",
    "\n",
    "query=\"INSERT INTO detail1 (name,email) VALUES(%s,%s)\"\n",
    "values = [(\"Ashish\", \"krish@gmail.com\"),\n",
    "        (\"Joe\", \"Maths@gmail.com\"),\n",
    "        (\"Ankur\",\"DataScience@gmail.com\"),\n",
    "        (\"Ashish\",\"Data Science@gmail.com\"),\n",
    "        (\"Vishal\",\"Maths@gmail.com\"),\n",
    "        (\"Krish\",\"DataScience@gmail.com\")]\n",
    "cursor.executemany(query,values)\n",
    "print(\"Query Inseted at row number\",cursor.lastrowid)"
   ]
  },
  {
   "cell_type": "markdown",
   "id": "833d0a04",
   "metadata": {},
   "source": [
    "# Select All"
   ]
  },
  {
   "cell_type": "code",
   "execution_count": 56,
   "id": "b7d028cb",
   "metadata": {},
   "outputs": [],
   "source": [
    "cursor.execute(\"Select * from detail1\")"
   ]
  },
  {
   "cell_type": "code",
   "execution_count": 57,
   "id": "62eabdec",
   "metadata": {},
   "outputs": [
    {
     "data": {
      "text/plain": [
       "[(1, 'Ashish', 'krish@gmail.com'),\n",
       " (2, 'Joe', 'Maths@gmail.com'),\n",
       " (3, 'Ankur', 'DataScience@gmail.com'),\n",
       " (4, 'Ashish', 'Data Science@gmail.com'),\n",
       " (5, 'Vishal', 'Maths@gmail.com'),\n",
       " (6, 'Krish', 'DataScience@gmail.com')]"
      ]
     },
     "execution_count": 57,
     "metadata": {},
     "output_type": "execute_result"
    }
   ],
   "source": [
    "## for fetching all the data\n",
    "cursor.fetchall()"
   ]
  },
  {
   "cell_type": "code",
   "execution_count": 58,
   "id": "fc4dd076",
   "metadata": {},
   "outputs": [],
   "source": [
    "## for fetching one data at a time\n",
    "cursor.fetchone()"
   ]
  },
  {
   "cell_type": "code",
   "execution_count": 59,
   "id": "4c7c4274",
   "metadata": {},
   "outputs": [],
   "source": [
    "lst=cursor.fetchall()"
   ]
  },
  {
   "cell_type": "code",
   "execution_count": 60,
   "id": "a2d1d403",
   "metadata": {},
   "outputs": [],
   "source": [
    "for detail in lst:\n",
    "    print(detail)"
   ]
  },
  {
   "cell_type": "code",
   "execution_count": 61,
   "id": "f3148502",
   "metadata": {},
   "outputs": [],
   "source": [
    "cursor.execute(\"Select * from detail1 where name='Ashish'\")"
   ]
  },
  {
   "cell_type": "code",
   "execution_count": 62,
   "id": "a5031cdd",
   "metadata": {},
   "outputs": [
    {
     "data": {
      "text/plain": [
       "[(1, 'Ashish', 'krish@gmail.com'), (4, 'Ashish', 'Data Science@gmail.com')]"
      ]
     },
     "execution_count": 62,
     "metadata": {},
     "output_type": "execute_result"
    }
   ],
   "source": [
    "cursor.fetchall()"
   ]
  },
  {
   "cell_type": "markdown",
   "id": "3d958d07",
   "metadata": {},
   "source": [
    "## Select particular Columns"
   ]
  },
  {
   "cell_type": "code",
   "execution_count": 63,
   "id": "b5e123cf",
   "metadata": {},
   "outputs": [
    {
     "data": {
      "text/plain": [
       "[(3, 'Ankur', 'DataScience@gmail.com'), (6, 'Krish', 'DataScience@gmail.com')]"
      ]
     },
     "execution_count": 63,
     "metadata": {},
     "output_type": "execute_result"
    }
   ],
   "source": [
    "cursor.execute(\"Select * from detail1 where email='DataScience@gmail.com'\")\n",
    "cursor.fetchall()"
   ]
  },
  {
   "cell_type": "code",
   "execution_count": 64,
   "id": "e9b304cc",
   "metadata": {},
   "outputs": [],
   "source": [
    "cursor.execute(\"Select email from detail1\")"
   ]
  },
  {
   "cell_type": "code",
   "execution_count": 65,
   "id": "9d01df77",
   "metadata": {},
   "outputs": [
    {
     "data": {
      "text/plain": [
       "[('krish@gmail.com',),\n",
       " ('Maths@gmail.com',),\n",
       " ('DataScience@gmail.com',),\n",
       " ('Data Science@gmail.com',),\n",
       " ('Maths@gmail.com',),\n",
       " ('DataScience@gmail.com',)]"
      ]
     },
     "execution_count": 65,
     "metadata": {},
     "output_type": "execute_result"
    }
   ],
   "source": [
    "cursor.fetchall()"
   ]
  },
  {
   "cell_type": "code",
   "execution_count": 66,
   "id": "3bba2789",
   "metadata": {},
   "outputs": [
    {
     "data": {
      "text/plain": [
       "[('krish@gmail.com',),\n",
       " ('Maths@gmail.com',),\n",
       " ('DataScience@gmail.com',),\n",
       " ('Data Science@gmail.com',)]"
      ]
     },
     "execution_count": 66,
     "metadata": {},
     "output_type": "execute_result"
    }
   ],
   "source": [
    "cursor.execute(\"Select DISTINCT email from detail1\")\n",
    "cursor.fetchall()"
   ]
  },
  {
   "cell_type": "code",
   "execution_count": 69,
   "id": "9f0815b3",
   "metadata": {},
   "outputs": [
    {
     "data": {
      "text/plain": [
       "[('Ashish', 'Data Science@gmail.com'), ('Krish', 'DataScience@gmail.com')]"
      ]
     },
     "execution_count": 69,
     "metadata": {},
     "output_type": "execute_result"
    }
   ],
   "source": [
    "cursor.execute(\"Select name,email from detail1 where name='krish' or email='Data Science@gmail.com'\")\n",
    "cursor.fetchall()"
   ]
  },
  {
   "cell_type": "markdown",
   "id": "e2a54a72",
   "metadata": {},
   "source": [
    "## Droping a Table "
   ]
  },
  {
   "cell_type": "code",
   "execution_count": null,
   "id": "66649958",
   "metadata": {},
   "outputs": [],
   "source": []
  }
 ],
 "metadata": {
  "kernelspec": {
   "display_name": "Python 3 (ipykernel)",
   "language": "python",
   "name": "python3"
  },
  "language_info": {
   "codemirror_mode": {
    "name": "ipython",
    "version": 3
   },
   "file_extension": ".py",
   "mimetype": "text/x-python",
   "name": "python",
   "nbconvert_exporter": "python",
   "pygments_lexer": "ipython3",
   "version": "3.8.10"
  }
 },
 "nbformat": 4,
 "nbformat_minor": 5
}
